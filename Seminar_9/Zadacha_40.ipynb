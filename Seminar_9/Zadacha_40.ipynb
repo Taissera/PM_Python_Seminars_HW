{
  "nbformat": 4,
  "nbformat_minor": 0,
  "metadata": {
    "colab": {
      "provenance": [],
      "authorship_tag": "ABX9TyN42WWt3ePH7xMfo6wzY41N",
      "include_colab_link": true
    },
    "kernelspec": {
      "name": "python3",
      "display_name": "Python 3"
    },
    "language_info": {
      "name": "python"
    }
  },
  "cells": [
    {
      "cell_type": "markdown",
      "metadata": {
        "id": "view-in-github",
        "colab_type": "text"
      },
      "source": [
        "<a href=\"https://colab.research.google.com/github/Taissera/PM_Python_Seminars_HW/blob/main/Zadacha_40.ipynb\" target=\"_parent\"><img src=\"https://colab.research.google.com/assets/colab-badge.svg\" alt=\"Open In Colab\"/></a>"
      ]
    },
    {
      "cell_type": "code",
      "execution_count": 3,
      "metadata": {
        "id": "jRw1BWWgm7GD"
      },
      "outputs": [],
      "source": [
        "import pandas as pd\n",
        "\n",
        "df = pd.read_csv('/content/sample_data/california_housing_train.csv')"
      ]
    },
    {
      "cell_type": "code",
      "source": [
        "# Задача 40.\n",
        "# Работать с файлом california_housing_train.csv, \n",
        "# который находится в папке sample_data. \n",
        "# Определить среднюю стоимость дома, где кол-во людей от 0 до 500 (population)\n",
        "\n",
        "# 'median_house_value'\n",
        "# 'population'\n",
        "# средняя стоимость дома\n",
        "# print(df['median_house_value'].mean())\n",
        "# выборка кол-во людей от 0 до 500\n",
        "# print(df[(df['population'] >= 0) & (df['population'] <= 500)])\n",
        "\n",
        "df[(df['population'] >= 0) & (df['population'] <= 500)]['median_house_value'].mean()"
      ],
      "metadata": {
        "colab": {
          "base_uri": "https://localhost:8080/"
        },
        "id": "ftsT37hLm8Qb",
        "outputId": "4deb1416-37bb-4add-db04-9e952beb0588"
      },
      "execution_count": 9,
      "outputs": [
        {
          "output_type": "execute_result",
          "data": {
            "text/plain": [
              "206799.95140186916"
            ]
          },
          "metadata": {},
          "execution_count": 9
        }
      ]
    },
    {
      "cell_type": "code",
      "source": [],
      "metadata": {
        "id": "S3kQVsWynGDk"
      },
      "execution_count": null,
      "outputs": []
    }
  ]
}